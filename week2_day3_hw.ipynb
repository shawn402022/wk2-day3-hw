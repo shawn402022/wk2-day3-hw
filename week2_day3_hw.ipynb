{
 "cells": [
  {
   "cell_type": "markdown",
   "id": "fd564d82",
   "metadata": {},
   "source": [
    "# Exercises\n",
    "1) Build a Shopping Cart\n",
    "You can use either lists or dictionaries. The program should have the following capabilities:\n",
    "\n",
    "1) Takes in input\n",
    "2) Stores user input into a dictionary or list\n",
    "3) The User can add or delete items\n",
    "4) The User can see current shopping list\n",
    "5) The program Loops until user 'quits'\n",
    "6) Upon quiting the program, print out all items in the user's list1"
   ]
  },
  {
   "cell_type": "code",
   "execution_count": 1,
   "id": "fe0a6aca",
   "metadata": {},
   "outputs": [],
   "source": [
    "from IPython.display import clear_output"
   ]
  },
  {
   "cell_type": "code",
   "execution_count": 1,
   "id": "ef0a230a",
   "metadata": {},
   "outputs": [
    {
     "name": "stdout",
     "output_type": "stream",
     "text": [
      "Welcome to cStore, Unfortunatly our inventory is limited today but what we have is good. \n",
      "milk bread water cheese cookies icecream toilet paper ceral frozen pizza chicken beef fish juice\n",
      "please enter any item from the list, if you dont see it then we dont have it.\n",
      " we are currently out of \n",
      "do you still want to continue? Y/Ny\n",
      "Welcome to cStore, Unfortunatly our inventory is limited today but what we have is good. \n",
      "milk bread water cheese cookies icecream toilet paper ceral frozen pizza chicken beef fish juice\n",
      "please enter any item from the list, if you dont see it then we dont have it.milk\n",
      "milk has been added to your cart\n",
      "['milk']\n",
      "do you still want to continue? Y/Ny\n",
      "Welcome to cStore, Unfortunatly our inventory is limited today but what we have is good. \n",
      "milk bread water cheese cookies icecream toilet paper ceral frozen pizza chicken beef fish juice\n",
      "please enter any item from the list, if you dont see it then we dont have it.bread\n",
      "bread has been added to your cart\n",
      "['milk', 'bread']\n",
      "do you still want to continue? Y/Nn\n",
      "are you ready to check out? Y/Ny\n",
      "your total is 10.98\n",
      "thanks for shopping with with cstore, hope to see you again soon.\n"
     ]
    }
   ],
   "source": [
    "cStore = {\n",
    "    'milk':7.99,\n",
    "    'bread':2.99,\n",
    "    'water':1.99,\n",
    "    'cheese':6.99,\n",
    "    'cookies':2.99,\n",
    "    'icecream':5.99,\n",
    "    'toilet paper':11.99,\n",
    "    'ceral':12.99,\n",
    "    'frozen pizza':10.99,\n",
    "    'chicken': 12.00,\n",
    "    'beef':13.00,\n",
    "    'fish':16.99,\n",
    "    'juice':6.99\n",
    "    \n",
    "}\n",
    "\n",
    "welcome = 'Welcome to cStore, Unfortunatly our inventory is limited today but what we have is good. '\n",
    "cont = 'do you still want to continue? Y/N'\n",
    "choose = 'please enter any item from the list, if you dont see it then we dont have it.'\n",
    "choices = \" \".join(cStore.keys()) \n",
    "addItem = 'would you like to add any other items?'\n",
    "checkOut = 'are you ready to check out? Y/N'\n",
    "total = 'your total is {shoppingCost}'\n",
    "cart = 'shoppingCart'\n",
    "salutation = 'thanks for shopping with with cstore, hope to see you again soon.'\n",
    "noStock = \" we are currently out of {choice}\"\n",
    "added = '{choice} has been added to your cart'\n",
    "              \n",
    "shoppingCart=[]\n",
    "shoppingCost=[]\n",
    "\n",
    "\n",
    "\n",
    "def cStoreCart():\n",
    "    \n",
    "    while True:\n",
    "    \n",
    "        print(welcome)\n",
    "        print(choices)\n",
    "        choice = input(choose)\n",
    "        \n",
    "\n",
    "        if choice in cStore:\n",
    "            shoppingCart.append(choice)\n",
    "            shoppingCost.append(cStore[choice])\n",
    "            print(added.format(choice =choice))\n",
    "            print(shoppingCart)\n",
    "        elif choice not in  cStore:\n",
    "            print(noStock.format(choice =choice))\n",
    "\n",
    "\n",
    "        go = input(cont)\n",
    "        if go == 'n':\n",
    "            checkout = input(checkOut)\n",
    "\n",
    "            if checkout == 'y':\n",
    "                print(total.format(shoppingCost = sum(shoppingCost)))\n",
    "                print(salutation) \n",
    "                break\n",
    "\n",
    "\n",
    "\n",
    "cStoreCart()\n",
    "\n",
    "            \n",
    "            \n",
    "        \n",
    "        \n",
    "        \n",
    "        \n",
    "\n",
    "    \n",
    "\n",
    "    "
   ]
  },
  {
   "cell_type": "code",
   "execution_count": null,
   "id": "cf9fc35a",
   "metadata": {},
   "outputs": [],
   "source": [
    "print(welcome)"
   ]
  },
  {
   "cell_type": "code",
   "execution_count": null,
   "id": "343de140",
   "metadata": {},
   "outputs": [],
   "source": []
  },
  {
   "cell_type": "code",
   "execution_count": null,
   "id": "b6517978",
   "metadata": {},
   "outputs": [],
   "source": []
  },
  {
   "cell_type": "markdown",
   "id": "adb9f61c",
   "metadata": {},
   "source": [
    "# 2) Create a Module in VS Code and Import It into jupyter notebook\n",
    "Module should have the following capabilities:\n",
    "\n",
    "1) Has a function to calculate the square footage of a house\n",
    "Reminder of Formula: Length X Width == Area\n",
    "\n",
    "2) Has a function to calculate the circumference of a circle\n",
    "\n",
    "Program in Jupyter Notebook should take in user input and use imported functions to calculate a circle's circumference or a houses square footage1"
   ]
  },
  {
   "cell_type": "code",
   "execution_count": null,
   "id": "3c5526c9",
   "metadata": {},
   "outputs": [],
   "source": []
  }
 ],
 "metadata": {
  "kernelspec": {
   "display_name": "Python 3 (ipykernel)",
   "language": "python",
   "name": "python3"
  },
  "language_info": {
   "codemirror_mode": {
    "name": "ipython",
    "version": 3
   },
   "file_extension": ".py",
   "mimetype": "text/x-python",
   "name": "python",
   "nbconvert_exporter": "python",
   "pygments_lexer": "ipython3",
   "version": "3.9.12"
  }
 },
 "nbformat": 4,
 "nbformat_minor": 5
}
